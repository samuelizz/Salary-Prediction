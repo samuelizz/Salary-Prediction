{
 "cells": [
  {
   "cell_type": "markdown",
   "id": "826794e6",
   "metadata": {},
   "source": [
    "## Salary Prediction\n",
    "\n",
    "The prediction task is to determine whether a person makes over 50K a year.\n",
    "\n",
    "The dataset and its metadata can be found [here](https://archive.ics.uci.edu/ml/datasets/Census+Income)\n"
   ]
  },
  {
   "cell_type": "code",
   "execution_count": 133,
   "id": "8a1ddfe3",
   "metadata": {},
   "outputs": [],
   "source": [
    "#Importing the libraries\n",
    "\n",
    "import pandas as pd\n",
    "import numpy as np\n",
    "import pickle\n",
    "import matplotlib.pyplot as plt\n",
    "import seaborn as sns\n",
    "from sklearn.model_selection import train_test_split, GridSearchCV, cross_val_score\n",
    "from sklearn.ensemble import RandomForestClassifier\n",
    "from sklearn.metrics import confusion_matrix, ConfusionMatrixDisplay, accuracy_score, classification_report\n",
    "from sklearn.pipeline import make_pipeline\n",
    "from category_encoders import OrdinalEncoder\n"
   ]
  },
  {
   "cell_type": "code",
   "execution_count": 81,
   "id": "eadfface",
   "metadata": {},
   "outputs": [],
   "source": [
    "#importing the data\n",
    "df = pd.read_csv('adult.data', header=None)"
   ]
  },
  {
   "cell_type": "markdown",
   "id": "d84ff44a",
   "metadata": {},
   "source": [
    "### Data Wrangling"
   ]
  },
  {
   "cell_type": "code",
   "execution_count": 82,
   "id": "39093715",
   "metadata": {
    "scrolled": false
   },
   "outputs": [
    {
     "data": {
      "text/html": [
       "<div>\n",
       "<style scoped>\n",
       "    .dataframe tbody tr th:only-of-type {\n",
       "        vertical-align: middle;\n",
       "    }\n",
       "\n",
       "    .dataframe tbody tr th {\n",
       "        vertical-align: top;\n",
       "    }\n",
       "\n",
       "    .dataframe thead th {\n",
       "        text-align: right;\n",
       "    }\n",
       "</style>\n",
       "<table border=\"1\" class=\"dataframe\">\n",
       "  <thead>\n",
       "    <tr style=\"text-align: right;\">\n",
       "      <th></th>\n",
       "      <th>0</th>\n",
       "      <th>1</th>\n",
       "      <th>2</th>\n",
       "      <th>3</th>\n",
       "      <th>4</th>\n",
       "      <th>5</th>\n",
       "      <th>6</th>\n",
       "      <th>7</th>\n",
       "      <th>8</th>\n",
       "      <th>9</th>\n",
       "      <th>10</th>\n",
       "      <th>11</th>\n",
       "      <th>12</th>\n",
       "      <th>13</th>\n",
       "      <th>14</th>\n",
       "    </tr>\n",
       "  </thead>\n",
       "  <tbody>\n",
       "    <tr>\n",
       "      <th>0</th>\n",
       "      <td>39</td>\n",
       "      <td>State-gov</td>\n",
       "      <td>77516</td>\n",
       "      <td>Bachelors</td>\n",
       "      <td>13</td>\n",
       "      <td>Never-married</td>\n",
       "      <td>Adm-clerical</td>\n",
       "      <td>Not-in-family</td>\n",
       "      <td>White</td>\n",
       "      <td>Male</td>\n",
       "      <td>2174</td>\n",
       "      <td>0</td>\n",
       "      <td>40</td>\n",
       "      <td>United-States</td>\n",
       "      <td>&lt;=50K</td>\n",
       "    </tr>\n",
       "    <tr>\n",
       "      <th>1</th>\n",
       "      <td>50</td>\n",
       "      <td>Self-emp-not-inc</td>\n",
       "      <td>83311</td>\n",
       "      <td>Bachelors</td>\n",
       "      <td>13</td>\n",
       "      <td>Married-civ-spouse</td>\n",
       "      <td>Exec-managerial</td>\n",
       "      <td>Husband</td>\n",
       "      <td>White</td>\n",
       "      <td>Male</td>\n",
       "      <td>0</td>\n",
       "      <td>0</td>\n",
       "      <td>13</td>\n",
       "      <td>United-States</td>\n",
       "      <td>&lt;=50K</td>\n",
       "    </tr>\n",
       "    <tr>\n",
       "      <th>2</th>\n",
       "      <td>38</td>\n",
       "      <td>Private</td>\n",
       "      <td>215646</td>\n",
       "      <td>HS-grad</td>\n",
       "      <td>9</td>\n",
       "      <td>Divorced</td>\n",
       "      <td>Handlers-cleaners</td>\n",
       "      <td>Not-in-family</td>\n",
       "      <td>White</td>\n",
       "      <td>Male</td>\n",
       "      <td>0</td>\n",
       "      <td>0</td>\n",
       "      <td>40</td>\n",
       "      <td>United-States</td>\n",
       "      <td>&lt;=50K</td>\n",
       "    </tr>\n",
       "    <tr>\n",
       "      <th>3</th>\n",
       "      <td>53</td>\n",
       "      <td>Private</td>\n",
       "      <td>234721</td>\n",
       "      <td>11th</td>\n",
       "      <td>7</td>\n",
       "      <td>Married-civ-spouse</td>\n",
       "      <td>Handlers-cleaners</td>\n",
       "      <td>Husband</td>\n",
       "      <td>Black</td>\n",
       "      <td>Male</td>\n",
       "      <td>0</td>\n",
       "      <td>0</td>\n",
       "      <td>40</td>\n",
       "      <td>United-States</td>\n",
       "      <td>&lt;=50K</td>\n",
       "    </tr>\n",
       "    <tr>\n",
       "      <th>4</th>\n",
       "      <td>28</td>\n",
       "      <td>Private</td>\n",
       "      <td>338409</td>\n",
       "      <td>Bachelors</td>\n",
       "      <td>13</td>\n",
       "      <td>Married-civ-spouse</td>\n",
       "      <td>Prof-specialty</td>\n",
       "      <td>Wife</td>\n",
       "      <td>Black</td>\n",
       "      <td>Female</td>\n",
       "      <td>0</td>\n",
       "      <td>0</td>\n",
       "      <td>40</td>\n",
       "      <td>Cuba</td>\n",
       "      <td>&lt;=50K</td>\n",
       "    </tr>\n",
       "  </tbody>\n",
       "</table>\n",
       "</div>"
      ],
      "text/plain": [
       "   0                  1       2           3   4                    5   \\\n",
       "0  39          State-gov   77516   Bachelors  13        Never-married   \n",
       "1  50   Self-emp-not-inc   83311   Bachelors  13   Married-civ-spouse   \n",
       "2  38            Private  215646     HS-grad   9             Divorced   \n",
       "3  53            Private  234721        11th   7   Married-civ-spouse   \n",
       "4  28            Private  338409   Bachelors  13   Married-civ-spouse   \n",
       "\n",
       "                   6               7       8        9     10  11  12  \\\n",
       "0        Adm-clerical   Not-in-family   White     Male  2174   0  40   \n",
       "1     Exec-managerial         Husband   White     Male     0   0  13   \n",
       "2   Handlers-cleaners   Not-in-family   White     Male     0   0  40   \n",
       "3   Handlers-cleaners         Husband   Black     Male     0   0  40   \n",
       "4      Prof-specialty            Wife   Black   Female     0   0  40   \n",
       "\n",
       "               13      14  \n",
       "0   United-States   <=50K  \n",
       "1   United-States   <=50K  \n",
       "2   United-States   <=50K  \n",
       "3   United-States   <=50K  \n",
       "4            Cuba   <=50K  "
      ]
     },
     "execution_count": 82,
     "metadata": {},
     "output_type": "execute_result"
    }
   ],
   "source": [
    "#displaying the data\n",
    "df.head()"
   ]
  },
  {
   "cell_type": "markdown",
   "id": "b51afee4",
   "metadata": {},
   "source": [
    "Since the dataset has no meaningful names, we will rename the columnsm"
   ]
  },
  {
   "cell_type": "code",
   "execution_count": 83,
   "id": "0eb90b1d",
   "metadata": {},
   "outputs": [],
   "source": [
    "#Storing the column names in a list\n",
    "\n",
    "column_names = ['age', 'workclass', 'fnlwgt', 'education', 'education_num', 'marital_status', 'occupation', 'relationship','race', 'sex',\n",
    " 'capital_gain', 'capital_loss', 'hours_per_week', 'native_country', 'target']"
   ]
  },
  {
   "cell_type": "markdown",
   "id": "0ad95790",
   "metadata": {},
   "source": [
    "The names were extracted from the dataset metadata"
   ]
  },
  {
   "cell_type": "code",
   "execution_count": 84,
   "id": "9008e05b",
   "metadata": {},
   "outputs": [],
   "source": [
    "# renaming the column names by iteration\n",
    "for index in df.columns:\n",
    "     df.rename(columns = {index : column_names[index]}, inplace = True)"
   ]
  },
  {
   "cell_type": "code",
   "execution_count": 85,
   "id": "a4dff330",
   "metadata": {
    "scrolled": true
   },
   "outputs": [
    {
     "data": {
      "text/html": [
       "<div>\n",
       "<style scoped>\n",
       "    .dataframe tbody tr th:only-of-type {\n",
       "        vertical-align: middle;\n",
       "    }\n",
       "\n",
       "    .dataframe tbody tr th {\n",
       "        vertical-align: top;\n",
       "    }\n",
       "\n",
       "    .dataframe thead th {\n",
       "        text-align: right;\n",
       "    }\n",
       "</style>\n",
       "<table border=\"1\" class=\"dataframe\">\n",
       "  <thead>\n",
       "    <tr style=\"text-align: right;\">\n",
       "      <th></th>\n",
       "      <th>age</th>\n",
       "      <th>workclass</th>\n",
       "      <th>fnlwgt</th>\n",
       "      <th>education</th>\n",
       "      <th>education_num</th>\n",
       "      <th>marital_status</th>\n",
       "      <th>occupation</th>\n",
       "      <th>relationship</th>\n",
       "      <th>race</th>\n",
       "      <th>sex</th>\n",
       "      <th>capital_gain</th>\n",
       "      <th>capital_loss</th>\n",
       "      <th>hours_per_week</th>\n",
       "      <th>native_country</th>\n",
       "      <th>target</th>\n",
       "    </tr>\n",
       "  </thead>\n",
       "  <tbody>\n",
       "    <tr>\n",
       "      <th>0</th>\n",
       "      <td>39</td>\n",
       "      <td>State-gov</td>\n",
       "      <td>77516</td>\n",
       "      <td>Bachelors</td>\n",
       "      <td>13</td>\n",
       "      <td>Never-married</td>\n",
       "      <td>Adm-clerical</td>\n",
       "      <td>Not-in-family</td>\n",
       "      <td>White</td>\n",
       "      <td>Male</td>\n",
       "      <td>2174</td>\n",
       "      <td>0</td>\n",
       "      <td>40</td>\n",
       "      <td>United-States</td>\n",
       "      <td>&lt;=50K</td>\n",
       "    </tr>\n",
       "    <tr>\n",
       "      <th>1</th>\n",
       "      <td>50</td>\n",
       "      <td>Self-emp-not-inc</td>\n",
       "      <td>83311</td>\n",
       "      <td>Bachelors</td>\n",
       "      <td>13</td>\n",
       "      <td>Married-civ-spouse</td>\n",
       "      <td>Exec-managerial</td>\n",
       "      <td>Husband</td>\n",
       "      <td>White</td>\n",
       "      <td>Male</td>\n",
       "      <td>0</td>\n",
       "      <td>0</td>\n",
       "      <td>13</td>\n",
       "      <td>United-States</td>\n",
       "      <td>&lt;=50K</td>\n",
       "    </tr>\n",
       "    <tr>\n",
       "      <th>2</th>\n",
       "      <td>38</td>\n",
       "      <td>Private</td>\n",
       "      <td>215646</td>\n",
       "      <td>HS-grad</td>\n",
       "      <td>9</td>\n",
       "      <td>Divorced</td>\n",
       "      <td>Handlers-cleaners</td>\n",
       "      <td>Not-in-family</td>\n",
       "      <td>White</td>\n",
       "      <td>Male</td>\n",
       "      <td>0</td>\n",
       "      <td>0</td>\n",
       "      <td>40</td>\n",
       "      <td>United-States</td>\n",
       "      <td>&lt;=50K</td>\n",
       "    </tr>\n",
       "    <tr>\n",
       "      <th>3</th>\n",
       "      <td>53</td>\n",
       "      <td>Private</td>\n",
       "      <td>234721</td>\n",
       "      <td>11th</td>\n",
       "      <td>7</td>\n",
       "      <td>Married-civ-spouse</td>\n",
       "      <td>Handlers-cleaners</td>\n",
       "      <td>Husband</td>\n",
       "      <td>Black</td>\n",
       "      <td>Male</td>\n",
       "      <td>0</td>\n",
       "      <td>0</td>\n",
       "      <td>40</td>\n",
       "      <td>United-States</td>\n",
       "      <td>&lt;=50K</td>\n",
       "    </tr>\n",
       "    <tr>\n",
       "      <th>4</th>\n",
       "      <td>28</td>\n",
       "      <td>Private</td>\n",
       "      <td>338409</td>\n",
       "      <td>Bachelors</td>\n",
       "      <td>13</td>\n",
       "      <td>Married-civ-spouse</td>\n",
       "      <td>Prof-specialty</td>\n",
       "      <td>Wife</td>\n",
       "      <td>Black</td>\n",
       "      <td>Female</td>\n",
       "      <td>0</td>\n",
       "      <td>0</td>\n",
       "      <td>40</td>\n",
       "      <td>Cuba</td>\n",
       "      <td>&lt;=50K</td>\n",
       "    </tr>\n",
       "  </tbody>\n",
       "</table>\n",
       "</div>"
      ],
      "text/plain": [
       "   age          workclass  fnlwgt   education  education_num  \\\n",
       "0   39          State-gov   77516   Bachelors             13   \n",
       "1   50   Self-emp-not-inc   83311   Bachelors             13   \n",
       "2   38            Private  215646     HS-grad              9   \n",
       "3   53            Private  234721        11th              7   \n",
       "4   28            Private  338409   Bachelors             13   \n",
       "\n",
       "        marital_status          occupation    relationship    race      sex  \\\n",
       "0        Never-married        Adm-clerical   Not-in-family   White     Male   \n",
       "1   Married-civ-spouse     Exec-managerial         Husband   White     Male   \n",
       "2             Divorced   Handlers-cleaners   Not-in-family   White     Male   \n",
       "3   Married-civ-spouse   Handlers-cleaners         Husband   Black     Male   \n",
       "4   Married-civ-spouse      Prof-specialty            Wife   Black   Female   \n",
       "\n",
       "   capital_gain  capital_loss  hours_per_week  native_country  target  \n",
       "0          2174             0              40   United-States   <=50K  \n",
       "1             0             0              13   United-States   <=50K  \n",
       "2             0             0              40   United-States   <=50K  \n",
       "3             0             0              40   United-States   <=50K  \n",
       "4             0             0              40            Cuba   <=50K  "
      ]
     },
     "execution_count": 85,
     "metadata": {},
     "output_type": "execute_result"
    }
   ],
   "source": [
    "#confirming the changes\n",
    "df.head()\n",
    "    \n",
    "    "
   ]
  },
  {
   "cell_type": "code",
   "execution_count": 86,
   "id": "ac28381c",
   "metadata": {
    "scrolled": true
   },
   "outputs": [
    {
     "name": "stdout",
     "output_type": "stream",
     "text": [
      "<class 'pandas.core.frame.DataFrame'>\n",
      "RangeIndex: 32561 entries, 0 to 32560\n",
      "Data columns (total 15 columns):\n",
      " #   Column          Non-Null Count  Dtype \n",
      "---  ------          --------------  ----- \n",
      " 0   age             32561 non-null  int64 \n",
      " 1   workclass       32561 non-null  object\n",
      " 2   fnlwgt          32561 non-null  int64 \n",
      " 3   education       32561 non-null  object\n",
      " 4   education_num   32561 non-null  int64 \n",
      " 5   marital_status  32561 non-null  object\n",
      " 6   occupation      32561 non-null  object\n",
      " 7   relationship    32561 non-null  object\n",
      " 8   race            32561 non-null  object\n",
      " 9   sex             32561 non-null  object\n",
      " 10  capital_gain    32561 non-null  int64 \n",
      " 11  capital_loss    32561 non-null  int64 \n",
      " 12  hours_per_week  32561 non-null  int64 \n",
      " 13  native_country  32561 non-null  object\n",
      " 14  target          32561 non-null  object\n",
      "dtypes: int64(6), object(9)\n",
      "memory usage: 3.7+ MB\n"
     ]
    }
   ],
   "source": [
    "#dataset info\n",
    "df.info()"
   ]
  },
  {
   "cell_type": "markdown",
   "id": "b9273ee1",
   "metadata": {},
   "source": [
    "There are total 15 columns and 32561 rows, The columns datatypes are correct"
   ]
  },
  {
   "cell_type": "code",
   "execution_count": 87,
   "id": "d80d2647",
   "metadata": {
    "scrolled": false
   },
   "outputs": [
    {
     "data": {
      "text/plain": [
       "age               0\n",
       "workclass         0\n",
       "fnlwgt            0\n",
       "education         0\n",
       "education_num     0\n",
       "marital_status    0\n",
       "occupation        0\n",
       "relationship      0\n",
       "race              0\n",
       "sex               0\n",
       "capital_gain      0\n",
       "capital_loss      0\n",
       "hours_per_week    0\n",
       "native_country    0\n",
       "target            0\n",
       "dtype: int64"
      ]
     },
     "execution_count": 87,
     "metadata": {},
     "output_type": "execute_result"
    }
   ],
   "source": [
    "#Checking for null values\n",
    "df.isnull().sum()"
   ]
  },
  {
   "cell_type": "markdown",
   "id": "e8a4841d",
   "metadata": {},
   "source": [
    "There are no null values in the dataset"
   ]
  },
  {
   "cell_type": "code",
   "execution_count": 88,
   "id": "aa6dd11b",
   "metadata": {
    "scrolled": false
   },
   "outputs": [
    {
     "data": {
      "text/plain": [
       "0        0\n",
       "1        0\n",
       "2        0\n",
       "3        0\n",
       "4        0\n",
       "        ..\n",
       "32556    0\n",
       "32557    1\n",
       "32558    0\n",
       "32559    0\n",
       "32560    1\n",
       "Name: target, Length: 32561, dtype: int32"
      ]
     },
     "execution_count": 88,
     "metadata": {},
     "output_type": "execute_result"
    }
   ],
   "source": [
    "#converting the target column into boolean values\n",
    "df['target'] = (df['target'] == ' >50K').astype('int')\n",
    "df['target']\n"
   ]
  },
  {
   "cell_type": "markdown",
   "id": "d4b146f7",
   "metadata": {},
   "source": [
    "1 means salary above 50k (positive class), 0 means salary less than or equal to 50K(negative class)"
   ]
  },
  {
   "cell_type": "markdown",
   "id": "33849b43",
   "metadata": {},
   "source": [
    "Investigating the target column"
   ]
  },
  {
   "cell_type": "code",
   "execution_count": 89,
   "id": "2386f5e9",
   "metadata": {
    "scrolled": false
   },
   "outputs": [
    {
     "data": {
      "image/png": "[encoded data removed]",
      "text/plain": [
       "<Figure size 432x288 with 1 Axes>"
      ]
     },
     "metadata": {
      "needs_background": "light"
     },
     "output_type": "display_data"
    }
   ],
   "source": [
    "# checking the distinct values\n",
    "df.target.value_counts(normalize = True).plot.bar()\n",
    "plt.title('Distribution of Target variable');"
   ]
  },
  {
   "cell_type": "markdown",
   "id": "6cc4d8e3",
   "metadata": {},
   "source": [
    "The above shows that the negative class is our majority class."
   ]
  },
  {
   "cell_type": "markdown",
   "id": "2c9e27b5",
   "metadata": {},
   "source": [
    "Let's Investigate Further"
   ]
  },
  {
   "cell_type": "code",
   "execution_count": 90,
   "id": "dc162e41",
   "metadata": {
    "scrolled": true
   },
   "outputs": [
    {
     "data": {
      "image/png": "[encoded data removed]",
      "text/plain": [
       "<Figure size 432x288 with 1 Axes>"
      ]
     },
     "metadata": {
      "needs_background": "light"
     },
     "output_type": "display_data"
    }
   ],
   "source": [
    "#Investigating the age distribution\n",
    "\n",
    "df.age.hist(bins = 20)\n",
    "plt.title('Distribution of Age');"
   ]
  },
  {
   "cell_type": "markdown",
   "id": "964dd28e",
   "metadata": {},
   "source": [
    "The age is skewed to the right where most people fall in the range of 20-50."
   ]
  },
  {
   "cell_type": "code",
   "execution_count": 91,
   "id": "576533e8",
   "metadata": {
    "scrolled": true
   },
   "outputs": [
    {
     "data": {
      "text/plain": [
       " Prof-specialty       4140\n",
       " Craft-repair         4099\n",
       " Exec-managerial      4066\n",
       " Adm-clerical         3770\n",
       " Sales                3650\n",
       " Other-service        3295\n",
       " Machine-op-inspct    2002\n",
       " ?                    1843\n",
       " Transport-moving     1597\n",
       " Handlers-cleaners    1370\n",
       " Farming-fishing       994\n",
       " Tech-support          928\n",
       " Protective-serv       649\n",
       " Priv-house-serv       149\n",
       " Armed-Forces            9\n",
       "Name: occupation, dtype: int64"
      ]
     },
     "execution_count": 91,
     "metadata": {},
     "output_type": "execute_result"
    }
   ],
   "source": [
    "#investigating the occupation\n",
    "df.occupation.value_counts()"
   ]
  },
  {
   "cell_type": "markdown",
   "id": "9ad7de37",
   "metadata": {},
   "source": [
    "The \"?\" in the values could be an error, so we will replace this with \"others\" and we do this for other object datatype columns"
   ]
  },
  {
   "cell_type": "code",
   "execution_count": 92,
   "id": "ea801ed3",
   "metadata": {},
   "outputs": [],
   "source": [
    "#iterating through the object datatype columns\n",
    "for column in df.select_dtypes('object'):\n",
    "    df[column] = df[column].replace(' ?', ' Others')"
   ]
  },
  {
   "cell_type": "code",
   "execution_count": 93,
   "id": "d49a1023",
   "metadata": {
    "scrolled": true
   },
   "outputs": [
    {
     "data": {
      "text/plain": [
       " Prof-specialty       4140\n",
       " Craft-repair         4099\n",
       " Exec-managerial      4066\n",
       " Adm-clerical         3770\n",
       " Sales                3650\n",
       " Other-service        3295\n",
       " Machine-op-inspct    2002\n",
       " Others               1843\n",
       " Transport-moving     1597\n",
       " Handlers-cleaners    1370\n",
       " Farming-fishing       994\n",
       " Tech-support          928\n",
       " Protective-serv       649\n",
       " Priv-house-serv       149\n",
       " Armed-Forces            9\n",
       "Name: occupation, dtype: int64"
      ]
     },
     "execution_count": 93,
     "metadata": {},
     "output_type": "execute_result"
    }
   ],
   "source": [
    "#confirming the changes\n",
    "df.occupation.value_counts()\n"
   ]
  },
  {
   "cell_type": "code",
   "execution_count": 94,
   "id": "c11a2f1c",
   "metadata": {
    "scrolled": true
   },
   "outputs": [],
   "source": [
    "#creating a funtion to visualize the bars for each feature\n",
    "def bars(feature):\n",
    "    df[feature].value_counts().sort_values().plot.barh()\n",
    "    plt.title(f'{feature} Counts');"
   ]
  },
  {
   "cell_type": "code",
   "execution_count": 95,
   "id": "ac168706",
   "metadata": {},
   "outputs": [
    {
     "data": {
      "image/png": "[encoded data removed]",
      "text/plain": [
       "<Figure size 432x288 with 1 Axes>"
      ]
     },
     "metadata": {
      "needs_background": "light"
     },
     "output_type": "display_data"
    }
   ],
   "source": [
    "#visualizing the occupation\n",
    "bars('occupation')"
   ]
  },
  {
   "cell_type": "markdown",
   "id": "f0e41d4a",
   "metadata": {},
   "source": [
    "Prof-Speciality tops the occupation counts followed by Craft-repair"
   ]
  },
  {
   "cell_type": "code",
   "execution_count": 96,
   "id": "0c42f4a8",
   "metadata": {
    "scrolled": true
   },
   "outputs": [
    {
     "data": {
      "image/png": "[encoded data removed]",
      "text/plain": [
       "<Figure size 432x288 with 1 Axes>"
      ]
     },
     "metadata": {
      "needs_background": "light"
     },
     "output_type": "display_data"
    }
   ],
   "source": [
    "#visualizing the marital status\n",
    "bars('marital_status')"
   ]
  },
  {
   "cell_type": "markdown",
   "id": "2a9df4bd",
   "metadata": {},
   "source": [
    "Civilian spouse leads the marital status counts"
   ]
  },
  {
   "cell_type": "code",
   "execution_count": null,
   "id": "945474be",
   "metadata": {},
   "outputs": [],
   "source": []
  },
  {
   "cell_type": "code",
   "execution_count": 97,
   "id": "3fec2c8d",
   "metadata": {
    "scrolled": true
   },
   "outputs": [
    {
     "data": {
      "image/png": "[encoded data removed]",
      "text/plain": [
       "<Figure size 432x288 with 1 Axes>"
      ]
     },
     "metadata": {
      "needs_background": "light"
     },
     "output_type": "display_data"
    }
   ],
   "source": [
    "#visualizing the workclass\n",
    "bars('workclass')"
   ]
  },
  {
   "cell_type": "markdown",
   "id": "01b9ebab",
   "metadata": {},
   "source": [
    "Most people work privately according to the chart above\n",
    "\n"
   ]
  },
  {
   "cell_type": "code",
   "execution_count": 98,
   "id": "e57d762d",
   "metadata": {
    "scrolled": true
   },
   "outputs": [
    {
     "data": {
      "image/png": "[encoded data removed]",
      "text/plain": [
       "<Figure size 432x288 with 1 Axes>"
      ]
     },
     "metadata": {
      "needs_background": "light"
     },
     "output_type": "display_data"
    }
   ],
   "source": [
    "#visualizing the education\n",
    "bars('education')"
   ]
  },
  {
   "cell_type": "markdown",
   "id": "6d7e598c",
   "metadata": {},
   "source": [
    "There are more HS-grad compared to others"
   ]
  },
  {
   "cell_type": "code",
   "execution_count": 99,
   "id": "93369c48",
   "metadata": {},
   "outputs": [],
   "source": [
    "# fig, ax = plt.subplots(nrows = 3, ncols = 3, figsize = (30,30))\n",
    "# ax = ax.ravel()\n",
    "# for index, column in enumerate(df.select_dtypes('object').columns):\n",
    "#     df[column].value_counts().sort_values().plot(kind = 'barh', ax = ax[index], title = f\"{column} counts\")\n",
    "    "
   ]
  },
  {
   "cell_type": "markdown",
   "id": "ef02b90f",
   "metadata": {},
   "source": [
    "### SPlitting the Data"
   ]
  },
  {
   "cell_type": "code",
   "execution_count": 100,
   "id": "1de18b28",
   "metadata": {},
   "outputs": [],
   "source": [
    "#splitting the data into X and y\n",
    "X = df.drop(columns = 'target')\n",
    "y = df['target']"
   ]
  },
  {
   "cell_type": "code",
   "execution_count": 101,
   "id": "40e634a8",
   "metadata": {
    "scrolled": true
   },
   "outputs": [
    {
     "name": "stdout",
     "output_type": "stream",
     "text": [
      "(32561, 14)\n",
      "(32561,)\n"
     ]
    }
   ],
   "source": [
    "#confirming the action\n",
    "print(X.shape)\n",
    "print(y.shape)"
   ]
  },
  {
   "cell_type": "code",
   "execution_count": 102,
   "id": "695f3a79",
   "metadata": {
    "scrolled": true
   },
   "outputs": [
    {
     "name": "stdout",
     "output_type": "stream",
     "text": [
      "(26048, 14)\n",
      "(6513, 14)\n"
     ]
    }
   ],
   "source": [
    "# SPlitting into the train and test data by using 20% as test size\n",
    "X_train, X_test, y_train, y_test = train_test_split(X, y, random_state=42, test_size=0.2)\n",
    "print(X_train.shape)\n",
    "print(X_test.shape)"
   ]
  },
  {
   "cell_type": "markdown",
   "id": "e6fe395f",
   "metadata": {},
   "source": [
    "### Buidling the Model - RandomForestClassifier"
   ]
  },
  {
   "cell_type": "code",
   "execution_count": 103,
   "id": "f97a4393",
   "metadata": {},
   "outputs": [
    {
     "data": {
      "text/plain": [
       "0.759"
      ]
     },
     "execution_count": 103,
     "metadata": {},
     "output_type": "execute_result"
    }
   ],
   "source": [
    "#setting the model baseline\n",
    "baseline_score = df['target'].value_counts(normalize = True).max()\n",
    "round(baseline_score, 3)"
   ]
  },
  {
   "cell_type": "code",
   "execution_count": 104,
   "id": "bcd1dad5",
   "metadata": {},
   "outputs": [],
   "source": [
    "#creating a pipeline\n",
    "clf = make_pipeline(\n",
    "    OrdinalEncoder(),\n",
    "    RandomForestClassifier()\n",
    ")"
   ]
  },
  {
   "cell_type": "markdown",
   "id": "fe329a14",
   "metadata": {},
   "source": [
    "#### Tunning the hyperparameters using Gridsearch"
   ]
  },
  {
   "cell_type": "code",
   "execution_count": 105,
   "id": "0d5517fc",
   "metadata": {},
   "outputs": [
    {
     "name": "stdout",
     "output_type": "stream",
     "text": [
      "{'randomforestclassifier__n_estimators': range(10, 100, 10), 'randomforestclassifier__max_depth': range(1, 40, 5)}\n"
     ]
    }
   ],
   "source": [
    "params = {\n",
    "    \"randomforestclassifier__n_estimators\" : range(10,100,10),\n",
    "    \"randomforestclassifier__max_depth\" : range(1,40,5)\n",
    "}\n",
    "print(params)"
   ]
  },
  {
   "cell_type": "code",
   "execution_count": 106,
   "id": "f07e708d",
   "metadata": {},
   "outputs": [
    {
     "data": {
      "text/plain": [
       "GridSearchCV(cv=5,\n",
       "             estimator=Pipeline(steps=[('ordinalencoder', OrdinalEncoder()),\n",
       "                                       ('randomforestclassifier',\n",
       "                                        RandomForestClassifier())]),\n",
       "             n_jobs=-1,\n",
       "             param_grid={'randomforestclassifier__max_depth': range(1, 40, 5),\n",
       "                         'randomforestclassifier__n_estimators': range(10, 100, 10)},\n",
       "             verbose=1)"
      ]
     },
     "execution_count": 106,
     "metadata": {},
     "output_type": "execute_result"
    }
   ],
   "source": [
    "#setting the model\n",
    "model = GridSearchCV(\n",
    "    estimator=clf,\n",
    "    param_grid=params,\n",
    "    cv = 5,\n",
    "    n_jobs=-1,\n",
    "    verbose = 1\n",
    ")\n",
    "model"
   ]
  },
  {
   "cell_type": "code",
   "execution_count": 107,
   "id": "d41d9d89",
   "metadata": {
    "scrolled": true
   },
   "outputs": [
    {
     "name": "stdout",
     "output_type": "stream",
     "text": [
      "Fitting 5 folds for each of 72 candidates, totalling 360 fits\n"
     ]
    },
    {
     "data": {
      "text/plain": [
       "GridSearchCV(cv=5,\n",
       "             estimator=Pipeline(steps=[('ordinalencoder', OrdinalEncoder()),\n",
       "                                       ('randomforestclassifier',\n",
       "                                        RandomForestClassifier())]),\n",
       "             n_jobs=-1,\n",
       "             param_grid={'randomforestclassifier__max_depth': range(1, 40, 5),\n",
       "                         'randomforestclassifier__n_estimators': range(10, 100, 10)},\n",
       "             verbose=1)"
      ]
     },
     "execution_count": 107,
     "metadata": {},
     "output_type": "execute_result"
    }
   ],
   "source": [
    "#training the model\n",
    "model.fit(X_train, y_train)"
   ]
  },
  {
   "cell_type": "code",
   "execution_count": 108,
   "id": "1e3eb707",
   "metadata": {
    "scrolled": true
   },
   "outputs": [
    {
     "data": {
      "text/html": [
       "<div>\n",
       "<style scoped>\n",
       "    .dataframe tbody tr th:only-of-type {\n",
       "        vertical-align: middle;\n",
       "    }\n",
       "\n",
       "    .dataframe tbody tr th {\n",
       "        vertical-align: top;\n",
       "    }\n",
       "\n",
       "    .dataframe thead th {\n",
       "        text-align: right;\n",
       "    }\n",
       "</style>\n",
       "<table border=\"1\" class=\"dataframe\">\n",
       "  <thead>\n",
       "    <tr style=\"text-align: right;\">\n",
       "      <th></th>\n",
       "      <th>mean_fit_time</th>\n",
       "      <th>std_fit_time</th>\n",
       "      <th>mean_score_time</th>\n",
       "      <th>std_score_time</th>\n",
       "      <th>param_randomforestclassifier__max_depth</th>\n",
       "      <th>param_randomforestclassifier__n_estimators</th>\n",
       "      <th>params</th>\n",
       "      <th>split0_test_score</th>\n",
       "      <th>split1_test_score</th>\n",
       "      <th>split2_test_score</th>\n",
       "      <th>split3_test_score</th>\n",
       "      <th>split4_test_score</th>\n",
       "      <th>mean_test_score</th>\n",
       "      <th>std_test_score</th>\n",
       "      <th>rank_test_score</th>\n",
       "    </tr>\n",
       "  </thead>\n",
       "  <tbody>\n",
       "    <tr>\n",
       "      <th>0</th>\n",
       "      <td>0.456818</td>\n",
       "      <td>0.018567</td>\n",
       "      <td>0.069181</td>\n",
       "      <td>0.003437</td>\n",
       "      <td>1</td>\n",
       "      <td>10</td>\n",
       "      <td>{'randomforestclassifier__max_depth': 1, 'rand...</td>\n",
       "      <td>0.770058</td>\n",
       "      <td>0.759309</td>\n",
       "      <td>0.759309</td>\n",
       "      <td>0.785179</td>\n",
       "      <td>0.769246</td>\n",
       "      <td>0.768620</td>\n",
       "      <td>0.009488</td>\n",
       "      <td>68</td>\n",
       "    </tr>\n",
       "    <tr>\n",
       "      <th>1</th>\n",
       "      <td>0.582906</td>\n",
       "      <td>0.040130</td>\n",
       "      <td>0.083975</td>\n",
       "      <td>0.019262</td>\n",
       "      <td>1</td>\n",
       "      <td>20</td>\n",
       "      <td>{'randomforestclassifier__max_depth': 1, 'rand...</td>\n",
       "      <td>0.759309</td>\n",
       "      <td>0.759309</td>\n",
       "      <td>0.759309</td>\n",
       "      <td>0.769246</td>\n",
       "      <td>0.784412</td>\n",
       "      <td>0.766317</td>\n",
       "      <td>0.009832</td>\n",
       "      <td>70</td>\n",
       "    </tr>\n",
       "    <tr>\n",
       "      <th>2</th>\n",
       "      <td>0.614867</td>\n",
       "      <td>0.017747</td>\n",
       "      <td>0.083377</td>\n",
       "      <td>0.007372</td>\n",
       "      <td>1</td>\n",
       "      <td>30</td>\n",
       "      <td>{'randomforestclassifier__max_depth': 1, 'rand...</td>\n",
       "      <td>0.759309</td>\n",
       "      <td>0.759309</td>\n",
       "      <td>0.759309</td>\n",
       "      <td>0.786715</td>\n",
       "      <td>0.762718</td>\n",
       "      <td>0.765472</td>\n",
       "      <td>0.010703</td>\n",
       "      <td>71</td>\n",
       "    </tr>\n",
       "    <tr>\n",
       "      <th>3</th>\n",
       "      <td>0.724063</td>\n",
       "      <td>0.027429</td>\n",
       "      <td>0.099334</td>\n",
       "      <td>0.018824</td>\n",
       "      <td>1</td>\n",
       "      <td>40</td>\n",
       "      <td>{'randomforestclassifier__max_depth': 1, 'rand...</td>\n",
       "      <td>0.759309</td>\n",
       "      <td>0.778695</td>\n",
       "      <td>0.786180</td>\n",
       "      <td>0.759263</td>\n",
       "      <td>0.770973</td>\n",
       "      <td>0.770884</td>\n",
       "      <td>0.010621</td>\n",
       "      <td>66</td>\n",
       "    </tr>\n",
       "    <tr>\n",
       "      <th>4</th>\n",
       "      <td>0.846157</td>\n",
       "      <td>0.035302</td>\n",
       "      <td>0.095720</td>\n",
       "      <td>0.004114</td>\n",
       "      <td>1</td>\n",
       "      <td>50</td>\n",
       "      <td>{'randomforestclassifier__max_depth': 1, 'rand...</td>\n",
       "      <td>0.766603</td>\n",
       "      <td>0.772169</td>\n",
       "      <td>0.759309</td>\n",
       "      <td>0.778652</td>\n",
       "      <td>0.759263</td>\n",
       "      <td>0.767199</td>\n",
       "      <td>0.007503</td>\n",
       "      <td>69</td>\n",
       "    </tr>\n",
       "    <tr>\n",
       "      <th>...</th>\n",
       "      <td>...</td>\n",
       "      <td>...</td>\n",
       "      <td>...</td>\n",
       "      <td>...</td>\n",
       "      <td>...</td>\n",
       "      <td>...</td>\n",
       "      <td>...</td>\n",
       "      <td>...</td>\n",
       "      <td>...</td>\n",
       "      <td>...</td>\n",
       "      <td>...</td>\n",
       "      <td>...</td>\n",
       "      <td>...</td>\n",
       "      <td>...</td>\n",
       "      <td>...</td>\n",
       "    </tr>\n",
       "    <tr>\n",
       "      <th>67</th>\n",
       "      <td>4.275762</td>\n",
       "      <td>0.046598</td>\n",
       "      <td>0.273868</td>\n",
       "      <td>0.014475</td>\n",
       "      <td>36</td>\n",
       "      <td>50</td>\n",
       "      <td>{'randomforestclassifier__max_depth': 36, 'ran...</td>\n",
       "      <td>0.845298</td>\n",
       "      <td>0.855470</td>\n",
       "      <td>0.847985</td>\n",
       "      <td>0.856594</td>\n",
       "      <td>0.865809</td>\n",
       "      <td>0.854231</td>\n",
       "      <td>0.007211</td>\n",
       "      <td>47</td>\n",
       "    </tr>\n",
       "    <tr>\n",
       "      <th>68</th>\n",
       "      <td>5.021367</td>\n",
       "      <td>0.037441</td>\n",
       "      <td>0.312365</td>\n",
       "      <td>0.013402</td>\n",
       "      <td>36</td>\n",
       "      <td>60</td>\n",
       "      <td>{'randomforestclassifier__max_depth': 36, 'ran...</td>\n",
       "      <td>0.848944</td>\n",
       "      <td>0.854894</td>\n",
       "      <td>0.847601</td>\n",
       "      <td>0.859282</td>\n",
       "      <td>0.861394</td>\n",
       "      <td>0.854423</td>\n",
       "      <td>0.005459</td>\n",
       "      <td>46</td>\n",
       "    </tr>\n",
       "    <tr>\n",
       "      <th>69</th>\n",
       "      <td>5.748422</td>\n",
       "      <td>0.041923</td>\n",
       "      <td>0.346274</td>\n",
       "      <td>0.015025</td>\n",
       "      <td>36</td>\n",
       "      <td>70</td>\n",
       "      <td>{'randomforestclassifier__max_depth': 36, 'ran...</td>\n",
       "      <td>0.847217</td>\n",
       "      <td>0.858541</td>\n",
       "      <td>0.856814</td>\n",
       "      <td>0.860242</td>\n",
       "      <td>0.863889</td>\n",
       "      <td>0.857341</td>\n",
       "      <td>0.005577</td>\n",
       "      <td>32</td>\n",
       "    </tr>\n",
       "    <tr>\n",
       "      <th>70</th>\n",
       "      <td>6.447354</td>\n",
       "      <td>0.125492</td>\n",
       "      <td>0.369012</td>\n",
       "      <td>0.016461</td>\n",
       "      <td>36</td>\n",
       "      <td>80</td>\n",
       "      <td>{'randomforestclassifier__max_depth': 36, 'ran...</td>\n",
       "      <td>0.849712</td>\n",
       "      <td>0.855470</td>\n",
       "      <td>0.851631</td>\n",
       "      <td>0.854483</td>\n",
       "      <td>0.865617</td>\n",
       "      <td>0.855383</td>\n",
       "      <td>0.005510</td>\n",
       "      <td>39</td>\n",
       "    </tr>\n",
       "    <tr>\n",
       "      <th>71</th>\n",
       "      <td>6.295382</td>\n",
       "      <td>0.408770</td>\n",
       "      <td>0.312352</td>\n",
       "      <td>0.025513</td>\n",
       "      <td>36</td>\n",
       "      <td>90</td>\n",
       "      <td>{'randomforestclassifier__max_depth': 36, 'ran...</td>\n",
       "      <td>0.844338</td>\n",
       "      <td>0.856238</td>\n",
       "      <td>0.850672</td>\n",
       "      <td>0.862354</td>\n",
       "      <td>0.862738</td>\n",
       "      <td>0.855268</td>\n",
       "      <td>0.007036</td>\n",
       "      <td>40</td>\n",
       "    </tr>\n",
       "  </tbody>\n",
       "</table>\n",
       "<p>72 rows × 15 columns</p>\n",
       "</div>"
      ],
      "text/plain": [
       "    mean_fit_time  std_fit_time  mean_score_time  std_score_time  \\\n",
       "0        0.456818      0.018567         0.069181        0.003437   \n",
       "1        0.582906      0.040130         0.083975        0.019262   \n",
       "2        0.614867      0.017747         0.083377        0.007372   \n",
       "3        0.724063      0.027429         0.099334        0.018824   \n",
       "4        0.846157      0.035302         0.095720        0.004114   \n",
       "..            ...           ...              ...             ...   \n",
       "67       4.275762      0.046598         0.273868        0.014475   \n",
       "68       5.021367      0.037441         0.312365        0.013402   \n",
       "69       5.748422      0.041923         0.346274        0.015025   \n",
       "70       6.447354      0.125492         0.369012        0.016461   \n",
       "71       6.295382      0.408770         0.312352        0.025513   \n",
       "\n",
       "   param_randomforestclassifier__max_depth  \\\n",
       "0                                        1   \n",
       "1                                        1   \n",
       "2                                        1   \n",
       "3                                        1   \n",
       "4                                        1   \n",
       "..                                     ...   \n",
       "67                                      36   \n",
       "68                                      36   \n",
       "69                                      36   \n",
       "70                                      36   \n",
       "71                                      36   \n",
       "\n",
       "   param_randomforestclassifier__n_estimators  \\\n",
       "0                                          10   \n",
       "1                                          20   \n",
       "2                                          30   \n",
       "3                                          40   \n",
       "4                                          50   \n",
       "..                                        ...   \n",
       "67                                         50   \n",
       "68                                         60   \n",
       "69                                         70   \n",
       "70                                         80   \n",
       "71                                         90   \n",
       "\n",
       "                                               params  split0_test_score  \\\n",
       "0   {'randomforestclassifier__max_depth': 1, 'rand...           0.770058   \n",
       "1   {'randomforestclassifier__max_depth': 1, 'rand...           0.759309   \n",
       "2   {'randomforestclassifier__max_depth': 1, 'rand...           0.759309   \n",
       "3   {'randomforestclassifier__max_depth': 1, 'rand...           0.759309   \n",
       "4   {'randomforestclassifier__max_depth': 1, 'rand...           0.766603   \n",
       "..                                                ...                ...   \n",
       "67  {'randomforestclassifier__max_depth': 36, 'ran...           0.845298   \n",
       "68  {'randomforestclassifier__max_depth': 36, 'ran...           0.848944   \n",
       "69  {'randomforestclassifier__max_depth': 36, 'ran...           0.847217   \n",
       "70  {'randomforestclassifier__max_depth': 36, 'ran...           0.849712   \n",
       "71  {'randomforestclassifier__max_depth': 36, 'ran...           0.844338   \n",
       "\n",
       "    split1_test_score  split2_test_score  split3_test_score  \\\n",
       "0            0.759309           0.759309           0.785179   \n",
       "1            0.759309           0.759309           0.769246   \n",
       "2            0.759309           0.759309           0.786715   \n",
       "3            0.778695           0.786180           0.759263   \n",
       "4            0.772169           0.759309           0.778652   \n",
       "..                ...                ...                ...   \n",
       "67           0.855470           0.847985           0.856594   \n",
       "68           0.854894           0.847601           0.859282   \n",
       "69           0.858541           0.856814           0.860242   \n",
       "70           0.855470           0.851631           0.854483   \n",
       "71           0.856238           0.850672           0.862354   \n",
       "\n",
       "    split4_test_score  mean_test_score  std_test_score  rank_test_score  \n",
       "0            0.769246         0.768620        0.009488               68  \n",
       "1            0.784412         0.766317        0.009832               70  \n",
       "2            0.762718         0.765472        0.010703               71  \n",
       "3            0.770973         0.770884        0.010621               66  \n",
       "4            0.759263         0.767199        0.007503               69  \n",
       "..                ...              ...             ...              ...  \n",
       "67           0.865809         0.854231        0.007211               47  \n",
       "68           0.861394         0.854423        0.005459               46  \n",
       "69           0.863889         0.857341        0.005577               32  \n",
       "70           0.865617         0.855383        0.005510               39  \n",
       "71           0.862738         0.855268        0.007036               40  \n",
       "\n",
       "[72 rows x 15 columns]"
      ]
     },
     "execution_count": 108,
     "metadata": {},
     "output_type": "execute_result"
    }
   ],
   "source": [
    "#storing the results in a dataframe\n",
    "cv_results = pd.DataFrame(model.cv_results_)\n",
    "cv_results"
   ]
  },
  {
   "cell_type": "code",
   "execution_count": 109,
   "id": "8dd08288",
   "metadata": {},
   "outputs": [
    {
     "data": {
      "text/plain": [
       "{'randomforestclassifier__max_depth': 16,\n",
       " 'randomforestclassifier__n_estimators': 80}"
      ]
     },
     "execution_count": 109,
     "metadata": {},
     "output_type": "execute_result"
    }
   ],
   "source": [
    "#showing the best params\n",
    "model.best_params_"
   ]
  },
  {
   "cell_type": "code",
   "execution_count": 110,
   "id": "1ea00030",
   "metadata": {
    "scrolled": true
   },
   "outputs": [
    {
     "data": {
      "text/plain": [
       "Pipeline(steps=[('ordinalencoder',\n",
       "                 OrdinalEncoder(cols=['workclass', 'education',\n",
       "                                      'marital_status', 'occupation',\n",
       "                                      'relationship', 'race', 'sex',\n",
       "                                      'native_country'],\n",
       "                                mapping=[{'col': 'workclass',\n",
       "                                          'data_type': dtype('O'),\n",
       "                                          'mapping':  Local-gov           1\n",
       " Private             2\n",
       " Self-emp-not-inc    3\n",
       " Others              4\n",
       " Federal-gov         5\n",
       " Self-emp-inc        6\n",
       " State-gov           7\n",
       " Without-pay         8\n",
       " Never-worked        9\n",
       "NaN                 -2\n",
       "dtype: int64},\n",
       "                                         {'col': 'educat...\n",
       " France                        20\n",
       " Dominican-Republic            21\n",
       " Thailand                      22\n",
       " England                       23\n",
       " Canada                        24\n",
       " Ecuador                       25\n",
       " Germany                       26\n",
       " Puerto-Rico                   27\n",
       " Scotland                      28\n",
       " Yugoslavia                    29\n",
       " Japan                         30\n",
       " Laos                          31\n",
       " Taiwan                        32\n",
       " Guatemala                     33\n",
       " Greece                        34\n",
       " Poland                        35\n",
       " Trinadad&Tobago               36\n",
       " Hong                          37\n",
       " Iran                          38\n",
       " Outlying-US(Guam-USVI-etc)    39\n",
       " Honduras                      40\n",
       " Hungary                       41\n",
       " Holand-Netherlands            42\n",
       "NaN                            -2\n",
       "dtype: int64}])),\n",
       "                ('randomforestclassifier',\n",
       "                 RandomForestClassifier(max_depth=16, n_estimators=80))])"
      ]
     },
     "execution_count": 110,
     "metadata": {},
     "output_type": "execute_result"
    }
   ],
   "source": [
    "#showing the best model\n",
    "model.best_estimator_"
   ]
  },
  {
   "cell_type": "markdown",
   "id": "7c907ce3",
   "metadata": {},
   "source": [
    "#### Evaluating the model"
   ]
  },
  {
   "cell_type": "code",
   "execution_count": 111,
   "id": "3bf78774",
   "metadata": {},
   "outputs": [
    {
     "data": {
      "text/plain": [
       "0.919"
      ]
     },
     "execution_count": 111,
     "metadata": {},
     "output_type": "execute_result"
    }
   ],
   "source": [
    "#using the train data first\n",
    "round(model.score(X_train, y_train),3)"
   ]
  },
  {
   "cell_type": "markdown",
   "id": "24432a34",
   "metadata": {},
   "source": [
    "The model performed well on the training data, Let see for data the model has not seen before which is the test data"
   ]
  },
  {
   "cell_type": "code",
   "execution_count": 112,
   "id": "08ac815b",
   "metadata": {},
   "outputs": [
    {
     "data": {
      "text/plain": [
       "0.865"
      ]
     },
     "execution_count": 112,
     "metadata": {},
     "output_type": "execute_result"
    }
   ],
   "source": [
    "#using the test data to evaluate the model\n",
    "round(model.score(X_test, y_test),3)"
   ]
  },
  {
   "cell_type": "markdown",
   "id": "8378a7cb",
   "metadata": {},
   "source": [
    "Our model score using the test data exceed the baseline model score but this can be misleading, so we will investigate further using the confusion matrix and classification report"
   ]
  },
  {
   "cell_type": "code",
   "execution_count": 113,
   "id": "6f708510",
   "metadata": {
    "scrolled": true
   },
   "outputs": [
    {
     "data": {
      "image/png": "[encoded data removed]",
      "text/plain": [
       "<Figure size 432x288 with 2 Axes>"
      ]
     },
     "metadata": {
      "needs_background": "light"
     },
     "output_type": "display_data"
    }
   ],
   "source": [
    "#Displaying the confusionMatrix\n",
    "cm = confusion_matrix(y_test, model.predict(X_test))\n",
    "ConfusionMatrixDisplay(cm).plot();"
   ]
  },
  {
   "cell_type": "markdown",
   "id": "50b2d715",
   "metadata": {},
   "source": [
    "From the above figure, there are 607 false negative and 259 false positives"
   ]
  },
  {
   "cell_type": "code",
   "execution_count": 114,
   "id": "bdf043b6",
   "metadata": {
    "scrolled": true
   },
   "outputs": [
    {
     "name": "stdout",
     "output_type": "stream",
     "text": [
      "              precision    recall  f1-score   support\n",
      "\n",
      "           0       0.88      0.95      0.91      4942\n",
      "           1       0.79      0.61      0.69      1571\n",
      "\n",
      "    accuracy                           0.87      6513\n",
      "   macro avg       0.83      0.78      0.80      6513\n",
      "weighted avg       0.86      0.87      0.86      6513\n",
      "\n"
     ]
    }
   ],
   "source": [
    "#Displaying the classification report\n",
    "print(classification_report(y_test, model.predict(X_test)))"
   ]
  },
  {
   "cell_type": "markdown",
   "id": "7fc3172a",
   "metadata": {},
   "source": [
    "#### Communicating the Result"
   ]
  },
  {
   "cell_type": "code",
   "execution_count": 125,
   "id": "37a90e05",
   "metadata": {
    "scrolled": true
   },
   "outputs": [
    {
     "data": {
      "text/plain": [
       "race              0.010876\n",
       "native_country    0.014610\n",
       "workclass         0.028607\n",
       "education         0.029196\n",
       "sex               0.030384\n",
       "capital_loss      0.047287\n",
       "hours_per_week    0.072475\n",
       "fnlwgt            0.072629\n",
       "relationship      0.073805\n",
       "occupation        0.082858\n",
       "age               0.113094\n",
       "education_num     0.120795\n",
       "marital_status    0.139395\n",
       "capital_gain      0.163989\n",
       "dtype: float64"
      ]
     },
     "execution_count": 125,
     "metadata": {},
     "output_type": "execute_result"
    }
   ],
   "source": [
    "#getting the importances of the features and storing in a series\n",
    "features = model.best_estimator_.named_steps['randomforestclassifier'].feature_importances_\n",
    "feat_importance = pd.Series(features, index = X_train.columns).sort_values()\n",
    "feat_importance"
   ]
  },
  {
   "cell_type": "code",
   "execution_count": 129,
   "id": "1388bf8a",
   "metadata": {
    "scrolled": true
   },
   "outputs": [
    {
     "data": {
      "image/png": "[encoded data removed]",
      "text/plain": [
       "<Figure size 504x432 with 1 Axes>"
      ]
     },
     "metadata": {
      "needs_background": "light"
     },
     "output_type": "display_data"
    }
   ],
   "source": [
    "#Visualizing the features importances\n",
    "plt.figure(figsize = (7,6))\n",
    "feat_importance.plot.barh()\n",
    "plt.xlabel('Importance')\n",
    "plt.ylabel('Feature')\n",
    "plt.title('Feature Importances');"
   ]
  },
  {
   "cell_type": "markdown",
   "id": "02569054",
   "metadata": {},
   "source": [
    "The above bar chart shows that capital gain feature has more importance, followed by marital status. Race has the least importance in predicting whether a participant earned more than 50k or not."
   ]
  },
  {
   "cell_type": "markdown",
   "id": "07f1c423",
   "metadata": {},
   "source": [
    "#### Saving the model"
   ]
  },
  {
   "cell_type": "code",
   "execution_count": 132,
   "id": "f7c1a9ad",
   "metadata": {},
   "outputs": [],
   "source": [
    "#saving the model\n",
    "with open('salary_pred.pkl', 'wb') as f:\n",
    "    pickle.dump(model, f)"
   ]
  }
 ],
 "metadata": {
  "kernelspec": {
   "display_name": "Python 3",
   "language": "python",
   "name": "python3"
  },
  "language_info": {
   "codemirror_mode": {
    "name": "ipython",
    "version": 3
   },
   "file_extension": ".py",
   "mimetype": "text/x-python",
   "name": "python",
   "nbconvert_exporter": "python",
   "pygments_lexer": "ipython3",
   "version": "3.8.8"
  }
 },
 "nbformat": 4,
 "nbformat_minor": 5
}
